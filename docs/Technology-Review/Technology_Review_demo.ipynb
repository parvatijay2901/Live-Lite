{
 "cells": [
  {
   "cell_type": "markdown",
   "metadata": {},
   "source": [
    "# Technology Review\n",
    "**Topic:** Comparing Scikit-learn to statsmodels for Logistic Regression\\\n",
    "**Group:** Live Lite\\\n",
    "**Group Members:** Parvati Jayakumar, Ted Liu, Saikripa Mohan, Manasa Shivappa"
   ]
  },
  {
   "cell_type": "markdown",
   "metadata": {},
   "source": [
    "## 1. Import Libraries, Add Dependencies, and Define all Functions"
   ]
  },
  {
   "cell_type": "code",
   "execution_count": 1,
   "metadata": {},
   "outputs": [],
   "source": [
    "import pandas as pd\n",
    "import time\n",
    "import joblib\n",
    "import os\n",
    "\n",
    "import statsmodels.api as sm\n",
    "\n",
    "from sklearn.datasets import make_classification\n",
    "from sklearn.model_selection import train_test_split\n",
    "from sklearn.preprocessing import OneHotEncoder\n",
    "from sklearn.compose import ColumnTransformer\n",
    "from sklearn.pipeline import Pipeline\n",
    "from sklearn.linear_model import LogisticRegression as LogisticRegressionSklearn\n",
    "from sklearn.metrics import accuracy_score, classification_report"
   ]
  },
  {
   "cell_type": "code",
   "execution_count": 2,
   "metadata": {},
   "outputs": [],
   "source": [
    "dump_models_path = ['Demo-results', 'Demo-results/scikit-learn_models', 'Demo-results/statsmodels_models']\n",
    "for path in dump_models_path:\n",
    "    if not os.path.exists(path):\n",
    "        os.makedirs(path)"
   ]
  },
  {
   "cell_type": "code",
   "execution_count": 3,
   "metadata": {},
   "outputs": [],
   "source": [
    "# Function to apply One-hot encoding\n",
    "def apply_one_hot_encoding():\n",
    "    categorical_features = ['Ethnicity', 'Depressed', 'StressEating', 'Smoke', 'ActivityLevel', 'Health', 'Diet', 'Gender']\n",
    "    preprocessor = ColumnTransformer(transformers=[('cat', OneHotEncoder(), categorical_features)],\n",
    "                                     remainder='passthrough')\n",
    "    return preprocessor"
   ]
  },
  {
   "cell_type": "code",
   "execution_count": 4,
   "metadata": {},
   "outputs": [],
   "source": [
    "# Function to fit and save a scikit-learn model\n",
    "def train_scikitlearn_model(X_train, y_train, filename, binary_output_flag=False):\n",
    "    # Fit the Scikit-learn model\n",
    "    start_time_sklearn = time.time()\n",
    "    \n",
    "    if binary_output_flag:\n",
    "        model_sklearn = LogisticRegressionSklearn()\n",
    "        \n",
    "    else:\n",
    "        preprocessor = apply_one_hot_encoding()\n",
    "        model_sklearn = Pipeline([('preprocessor', preprocessor),\n",
    "                                  ('classifier', LogisticRegressionSklearn(max_iter=2000))])\n",
    "        \n",
    "    model_sklearn.fit(X_train, y_train)\n",
    "    \n",
    "    end_time_sklearn = time.time()\n",
    "    \n",
    "    # Save the trained model\n",
    "    joblib.dump(model_sklearn, filename)\n",
    "    \n",
    "    # Return the time it took to train the model\n",
    "    return start_time_sklearn, end_time_sklearn"
   ]
  },
  {
   "cell_type": "code",
   "execution_count": 5,
   "metadata": {},
   "outputs": [],
   "source": [
    "# Function to fit and save a statsmodels model\n",
    "def train_statsmodels(X_train, y_train, filename, binary_output_flag=False):\n",
    "    # Train the statsmodels model\n",
    "    if binary_output_flag:\n",
    "        X_train_sm = sm.add_constant(X_train)  # statsmodels requires us to add a constant column for the intercept\n",
    "    else:\n",
    "        X_train_sm = X_train\n",
    "    start_time_statsmodels = time.time()\n",
    "    model_statsmodels = sm.Logit(y_train, X_train_sm).fit(disp=0)  # disp=0 if we want to suppress the fit summary output\n",
    "    end_time_statsmodels = time.time()\n",
    "    \n",
    "    # Save the trained model\n",
    "    joblib.dump(model_statsmodels, filename)\n",
    "    \n",
    "    # Return the time it took to train the model\n",
    "    return start_time_statsmodels, end_time_statsmodels"
   ]
  },
  {
   "cell_type": "code",
   "execution_count": 6,
   "metadata": {},
   "outputs": [],
   "source": [
    "# Function to evaluate the trained scikit learn model\n",
    "def evaluate_scikitlearn_model(X_test, y_test, start_time, end_time, filename):\n",
    "    \n",
    "    # Load the trained model\n",
    "    model_sklearn = joblib.load(filename)\n",
    "    \n",
    "    # Predict the results on the test set\n",
    "    y_pred_sklearn = model_sklearn.predict(X_test)\n",
    "    \n",
    "    # Calculate the elapsed time\n",
    "    elapsed_time = end_time - start_time\n",
    "    \n",
    "    print(\"Model Training time: \", round(elapsed_time,5), \"seconds\")\n",
    "    print(\"Model Accuracy: \", round(accuracy_score(y_test, y_pred_sklearn),5)*100, \"%\")\n",
    "    print(\"Classification Report: \\n\", classification_report(y_test, y_pred_sklearn))"
   ]
  },
  {
   "cell_type": "code",
   "execution_count": 7,
   "metadata": {},
   "outputs": [],
   "source": [
    "# Function to evaluate the trained statsmodels model\n",
    "def evaluate_statsmodels_model(X_test, y_test, start_time, end_time, filename, binary_output_flag=False):\n",
    "    model_statsmodels = joblib.load(filename)\n",
    "    \n",
    "    # Calculate the elapsed time\n",
    "    elapsed_time = end_time - start_time\n",
    "    \n",
    "    print(\"Model Training time: \", round(elapsed_time,3), \"seconds\")\n",
    "    \n",
    "    if binary_output_flag: # Convert probabilities to binary output\n",
    "        X_test_sm = sm.add_constant(X_test)\n",
    "        y_pred_statsmodels = model_statsmodels.predict(X_test_sm) > 0.5 \n",
    "        print(\"Model Accuracy: \", round(accuracy_score(y_test, y_pred_statsmodels),3)*100, \"%\")\n",
    "        print(\"Classification Report: \\n\", classification_report(y_test, y_pred_statsmodels))\n",
    "    else:\n",
    "        print(\"\\n\", model_statsmodels.summary())"
   ]
  },
  {
   "cell_type": "markdown",
   "metadata": {},
   "source": [
    "## 2. Data preparation"
   ]
  },
  {
   "cell_type": "code",
   "execution_count": 8,
   "metadata": {},
   "outputs": [],
   "source": [
    "# Generate a random classification dataset with 20 features and 2 categories (binary classification).\n",
    "X, y = make_classification(n_samples=1000, n_features=20, n_classes=2, random_state=42)"
   ]
  },
  {
   "cell_type": "code",
   "execution_count": 9,
   "metadata": {},
   "outputs": [],
   "source": [
    "# Split the dataset into training and testing sets\n",
    "X_train_random, X_test_random, y_train_random, y_test_random = train_test_split(X, y, test_size=0.2, random_state=42)"
   ]
  },
  {
   "cell_type": "markdown",
   "metadata": {},
   "source": [
    "## 3. Training"
   ]
  },
  {
   "cell_type": "markdown",
   "metadata": {},
   "source": [
    "### 3.1 Using 'Scikit-learn'"
   ]
  },
  {
   "cell_type": "code",
   "execution_count": 10,
   "metadata": {},
   "outputs": [],
   "source": [
    "# Fit a logistic regression model using scikit-learn and time it\n",
    "start_time_sklearn_random, end_time_sklearn_random = train_scikitlearn_model(X_train_random, y_train_random, 'Demo-results/scikit-learn_models/random-model.demo', True)"
   ]
  },
  {
   "cell_type": "markdown",
   "metadata": {},
   "source": [
    "### 3.2 Using 'statsmodels'"
   ]
  },
  {
   "cell_type": "code",
   "execution_count": 11,
   "metadata": {},
   "outputs": [],
   "source": [
    "# Fit a logistic regression model using statsmodels and time it\n",
    "start_time_statsmodels_random, end_time_statsmodels_random = train_statsmodels(X_train_random, y_train_random, 'Demo-results/statsmodels_models/random-model.demo', True)"
   ]
  },
  {
   "cell_type": "markdown",
   "metadata": {},
   "source": [
    "## 4. Evaluate the models"
   ]
  },
  {
   "cell_type": "markdown",
   "metadata": {},
   "source": [
    "### 4.1 Using 'Scikit-learn'"
   ]
  },
  {
   "cell_type": "code",
   "execution_count": 12,
   "metadata": {},
   "outputs": [
    {
     "name": "stdout",
     "output_type": "stream",
     "text": [
      "Model Training time:  0.01925 seconds\n",
      "Model Accuracy:  85.5 %\n",
      "Classification Report: \n",
      "               precision    recall  f1-score   support\n",
      "\n",
      "           0       0.80      0.91      0.85        93\n",
      "           1       0.91      0.80      0.86       107\n",
      "\n",
      "    accuracy                           0.85       200\n",
      "   macro avg       0.86      0.86      0.85       200\n",
      "weighted avg       0.86      0.85      0.86       200\n",
      "\n"
     ]
    }
   ],
   "source": [
    "# Evaluate the scikit-learn model and print the results\n",
    "evaluate_scikitlearn_model(X_test_random, y_test_random, start_time_sklearn_random, end_time_sklearn_random,'Demo-results/scikit-learn_models/random-model.demo')"
   ]
  },
  {
   "cell_type": "markdown",
   "metadata": {},
   "source": [
    "### 4.2 Using 'statsmodels'"
   ]
  },
  {
   "cell_type": "code",
   "execution_count": 13,
   "metadata": {},
   "outputs": [
    {
     "name": "stdout",
     "output_type": "stream",
     "text": [
      "Model Training time:  0.04 seconds\n",
      "Model Accuracy:  85.5 %\n",
      "Classification Report: \n",
      "               precision    recall  f1-score   support\n",
      "\n",
      "           0       0.80      0.91      0.85        93\n",
      "           1       0.91      0.80      0.86       107\n",
      "\n",
      "    accuracy                           0.85       200\n",
      "   macro avg       0.86      0.86      0.85       200\n",
      "weighted avg       0.86      0.85      0.86       200\n",
      "\n"
     ]
    }
   ],
   "source": [
    "# Evaluate the statsmodels model and print the results\n",
    "evaluate_statsmodels_model(X_test_random, y_test_random, start_time_statsmodels_random, end_time_statsmodels_random,'Demo-results/statsmodels_models/random-model.demo', True)"
   ]
  },
  {
   "cell_type": "markdown",
   "metadata": {},
   "source": [
    "## 5. Results on our project dataset"
   ]
  },
  {
   "cell_type": "markdown",
   "metadata": {},
   "source": [
    "### 5.1 Data Preparation"
   ]
  },
  {
   "cell_type": "code",
   "execution_count": 14,
   "metadata": {},
   "outputs": [],
   "source": [
    "# Read the dataset\n",
    "df = pd.read_csv('Obesitysample.csv')"
   ]
  },
  {
   "cell_type": "code",
   "execution_count": 15,
   "metadata": {},
   "outputs": [],
   "source": [
    "# Define model inputs and outputs\n",
    "X = df.drop(['ID', 'IsObese'], axis=1)\n",
    "y = df['IsObese']\n",
    "\n",
    "# Split the dataset to train-test sets\n",
    "X_train, X_test, y_train, y_test = train_test_split(X, y, test_size=0.2, random_state=42)"
   ]
  },
  {
   "cell_type": "markdown",
   "metadata": {},
   "source": [
    "### 5.2 Training"
   ]
  },
  {
   "cell_type": "markdown",
   "metadata": {},
   "source": [
    "#### 5.2.1 Using 'scikit-learn'"
   ]
  },
  {
   "cell_type": "code",
   "execution_count": 16,
   "metadata": {},
   "outputs": [],
   "source": [
    "# Fit a logistic regression model using scikit-learn and time it\n",
    "start_time_sklearn, end_time_sklearn = train_scikitlearn_model(X_train, y_train, 'Demo-results/scikit-learn_models/Obesity-risk-model.demo')"
   ]
  },
  {
   "cell_type": "markdown",
   "metadata": {},
   "source": [
    "#### 5.2.2 Using 'statsmodels'"
   ]
  },
  {
   "cell_type": "code",
   "execution_count": 17,
   "metadata": {},
   "outputs": [],
   "source": [
    "# Fit a logistic regression model using statsmodels and time it\n",
    "start_time_statsmodels, end_time_statsmodels = train_statsmodels(X_train, y_train, 'Demo-results/statsmodels_models/Obesity-risk-model.demo')"
   ]
  },
  {
   "cell_type": "markdown",
   "metadata": {},
   "source": [
    "### 5.3 Evaluate the model"
   ]
  },
  {
   "cell_type": "markdown",
   "metadata": {},
   "source": [
    "#### 5.3.1 Using 'scikit-learn'"
   ]
  },
  {
   "cell_type": "code",
   "execution_count": 18,
   "metadata": {},
   "outputs": [
    {
     "name": "stdout",
     "output_type": "stream",
     "text": [
      "Model Training time:  0.68643 seconds\n",
      "Model Accuracy:  64.846 %\n",
      "Classification Report: \n",
      "               precision    recall  f1-score   support\n",
      "\n",
      "           0       0.68      0.82      0.74       723\n",
      "           1       0.56      0.38      0.45       449\n",
      "\n",
      "    accuracy                           0.65      1172\n",
      "   macro avg       0.62      0.60      0.60      1172\n",
      "weighted avg       0.63      0.65      0.63      1172\n",
      "\n"
     ]
    }
   ],
   "source": [
    "# Evaluate the scikit-learn model and print the results\n",
    "evaluate_scikitlearn_model(X_test, y_test, start_time_sklearn, end_time_sklearn,'Demo-results/scikit-learn_models/Obesity-risk-model.demo')"
   ]
  },
  {
   "cell_type": "markdown",
   "metadata": {},
   "source": [
    "#### 5.3.2 Using 'statsmodels'"
   ]
  },
  {
   "cell_type": "code",
   "execution_count": 19,
   "metadata": {},
   "outputs": [
    {
     "name": "stdout",
     "output_type": "stream",
     "text": [
      "Model Training time:  0.035 seconds\n",
      "\n",
      "                            Logit Regression Results                           \n",
      "==============================================================================\n",
      "Dep. Variable:                IsObese   No. Observations:                 4684\n",
      "Model:                          Logit   Df Residuals:                     4674\n",
      "Method:                           MLE   Df Model:                            9\n",
      "Date:                Fri, 09 Feb 2024   Pseudo R-squ.:                 0.04400\n",
      "Time:                        18:24:01   Log-Likelihood:                -2962.2\n",
      "converged:                       True   LL-Null:                       -3098.5\n",
      "Covariance Type:            nonrobust   LLR p-value:                 1.616e-53\n",
      "=================================================================================\n",
      "                    coef    std err          z      P>|z|      [0.025      0.975]\n",
      "---------------------------------------------------------------------------------\n",
      "Age              -0.0058      0.002     -3.563      0.000      -0.009      -0.003\n",
      "Ethnicity        -0.1446      0.018     -8.124      0.000      -0.180      -0.110\n",
      "Depressed        -0.0549      0.048     -1.153      0.249      -0.148       0.038\n",
      "StressEating      0.2105      0.045      4.665      0.000       0.122       0.299\n",
      "Smoke             0.0349      0.026      1.352      0.176      -0.016       0.085\n",
      "Sleephours       -0.1048      0.014     -7.728      0.000      -0.131      -0.078\n",
      "ActivityLevel    -0.0494      0.015     -3.197      0.001      -0.080      -0.019\n",
      "Health            0.1983      0.033      6.026      0.000       0.134       0.263\n",
      "Diet              0.1705      0.030      5.701      0.000       0.112       0.229\n",
      "Gender           -0.0226      0.062     -0.367      0.713      -0.143       0.098\n",
      "=================================================================================\n"
     ]
    }
   ],
   "source": [
    "# Evaluate the statsmodels model and print the results\n",
    "evaluate_statsmodels_model(X_test, y_test, start_time_statsmodels, end_time_statsmodels,'Demo-results/statsmodels_models/Obesity-risk-model.demo')"
   ]
  },
  {
   "cell_type": "markdown",
   "metadata": {},
   "source": [
    "### 5.4 Predict Obesity Risk"
   ]
  },
  {
   "cell_type": "code",
   "execution_count": 20,
   "metadata": {},
   "outputs": [],
   "source": [
    "# Define the new data\n",
    "predict_df = pd.DataFrame({'Age': [80],\n",
    "                        'Ethnicity': [4],\n",
    "                        'Depressed': [0],\n",
    "                        'StressEating': [1],\n",
    "                        'Smoke': [0],\n",
    "                        'Sleephours': [2],\n",
    "                        'ActivityLevel': [2],\n",
    "                        'Health': [1],\n",
    "                        'Diet': [4],\n",
    "                        'Gender': [1]})"
   ]
  },
  {
   "cell_type": "markdown",
   "metadata": {},
   "source": [
    "#### 5.4.1 Using 'scikit-learn'"
   ]
  },
  {
   "cell_type": "code",
   "execution_count": 21,
   "metadata": {},
   "outputs": [
    {
     "name": "stdout",
     "output_type": "stream",
     "text": [
      "Predicted Obesity Risk: 43.99 %\n"
     ]
    }
   ],
   "source": [
    "model_scikitlearn = joblib.load('Demo-results/scikit-learn_models/Obesity-risk-model.demo')\n",
    "scikitlearn_new_prediction = model_scikitlearn.predict_proba(predict_df)[:, 1]  # Probability of class 1 (obese)\n",
    "Obesityrisk = round(scikitlearn_new_prediction[0] * 100, 2)\n",
    "print(f'Predicted Obesity Risk: {Obesityrisk} %')"
   ]
  },
  {
   "cell_type": "markdown",
   "metadata": {},
   "source": [
    "#### 5.4.2 Using 'statsmodels'"
   ]
  },
  {
   "cell_type": "code",
   "execution_count": 22,
   "metadata": {},
   "outputs": [
    {
     "name": "stdout",
     "output_type": "stream",
     "text": [
      "Predicted Obesity Risk: 42.88 %\n"
     ]
    }
   ],
   "source": [
    "model_statsmodels = joblib.load('Demo-results/statsmodels_models/Obesity-risk-model.demo')\n",
    "statsmodels_new_prediction = model_statsmodels.predict(predict_df)\n",
    "Obesityrisk = round(statsmodels_new_prediction[0] * 100, 2)\n",
    "print(f'Predicted Obesity Risk: {Obesityrisk} %')"
   ]
  },
  {
   "cell_type": "code",
   "execution_count": null,
   "metadata": {},
   "outputs": [],
   "source": []
  }
 ],
 "metadata": {
  "kernelspec": {
   "display_name": "Python 3",
   "language": "python",
   "name": "python3"
  },
  "language_info": {
   "codemirror_mode": {
    "name": "ipython",
    "version": 3
   },
   "file_extension": ".py",
   "mimetype": "text/x-python",
   "name": "python",
   "nbconvert_exporter": "python",
   "pygments_lexer": "ipython3",
   "version": "3.11.8"
  }
 },
 "nbformat": 4,
 "nbformat_minor": 2
}
